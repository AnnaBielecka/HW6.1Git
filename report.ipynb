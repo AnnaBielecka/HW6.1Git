{
 "cells": [
  {
   "cell_type": "code",
   "execution_count": 1,
   "metadata": {},
   "outputs": [
    {
     "name": "stdout",
     "output_type": "stream",
     "text": [
      "Report for April generated\n",
      "--- Birthdays ---\n",
      "Total: 5\n",
      "By department:\n",
      "- Finance: 1\n",
      "- HR: 1\n",
      "- Sales: 2\n",
      "- Marketing: 1\n",
      "--- Anniversaries ---\n",
      "Total: 0\n",
      "By department:\n"
     ]
    }
   ],
   "source": [
    "import csv\n",
    "import sys\n",
    "from collections import defaultdict\n",
    "from datetime import datetime\n",
    "\n",
    "# Задаємо значення напряму\n",
    "database_file = 'database.csv'  # Назва файлу\n",
    "search_month = 'April'  # Місяць для пошуку\n",
    "\n",
    "\n",
    "def generate_report(database_file, search_month):\n",
    "    birthdays_by_department = defaultdict(int)\n",
    "    anniversaries_by_department = defaultdict(int)\n",
    "    total_birthdays = 0\n",
    "    total_anniversaries = 0\n",
    "\n",
    "    # Читаємо файл CSV\n",
    "    with open(database_file, newline='') as csvfile:\n",
    "        reader = csv.DictReader(csvfile)\n",
    "        for row in reader:\n",
    "            # Отримуємо місяць із дати народження та дати найму\n",
    "            birth_month = datetime.strptime(row['Birth date'], '%Y-%m-%d').strftime('%B').lower()\n",
    "            hire_month = datetime.strptime(row['Hire date'], '%Y-%m-%d').strftime('%B').lower()\n",
    "\n",
    "            # Перевіряємо місяць народження\n",
    "            if birth_month == search_month.lower():\n",
    "                total_birthdays += 1\n",
    "                birthdays_by_department[row['Department']] += 1\n",
    "\n",
    "            # Перевіряємо місяць річниці\n",
    "            if hire_month == search_month.lower():\n",
    "                total_anniversaries += 1\n",
    "                anniversaries_by_department[row['Department']] += 1\n",
    "\n",
    "    # Виводимо результат\n",
    "    print(f\"Report for {search_month.capitalize()} generated\")\n",
    "    print(\"--- Birthdays ---\")\n",
    "    print(f\"Total: {total_birthdays}\")\n",
    "    print(\"By department:\")\n",
    "    for department, count in birthdays_by_department.items():\n",
    "        print(f\"- {department}: {count}\")\n",
    "\n",
    "    print(\"--- Anniversaries ---\")\n",
    "    print(f\"Total: {total_anniversaries}\")\n",
    "    print(\"By department:\")\n",
    "    for department, count in anniversaries_by_department.items():\n",
    "        print(f\"- {department}: {count}\")\n",
    "\n",
    "generate_report(database_file, search_month)"
   ]
  }
 ],
 "metadata": {
  "kernelspec": {
   "display_name": "Python 3",
   "language": "python",
   "name": "python3"
  },
  "language_info": {
   "codemirror_mode": {
    "name": "ipython",
    "version": 3
   },
   "file_extension": ".py",
   "mimetype": "text/x-python",
   "name": "python",
   "nbconvert_exporter": "python",
   "pygments_lexer": "ipython3",
   "version": "3.12.7"
  }
 },
 "nbformat": 4,
 "nbformat_minor": 2
}
