{
 "cells": [
  {
   "cell_type": "code",
   "execution_count": 1,
   "metadata": {},
   "outputs": [],
   "source": [
    "from faker import Faker\n",
    "fake = Faker()\n",
    "\n",
    "import random\n",
    "departments_list = ['HR', 'Finance', 'Research', 'Marketing', 'IT', 'Sales' ]\n",
    "\n",
    "import csv\n",
    "\n",
    "n = 10\n",
    "\n",
    "general_data = []\n",
    "employee_data = []\n",
    "\n",
    "for i in range(n):\n",
    "  name_employee = fake.name()\n",
    "  employee_data.append(name_employee)\n",
    "\n",
    "  birthdate = fake.date_of_birth(minimum_age=20, maximum_age=60)\n",
    "  employee_data.append(str(birthdate))\n",
    "\n",
    "  hire_date = fake.date_this_decade()\n",
    "  employee_data.append(str(hire_date))\n",
    "\n",
    "  department = random.choice(departments_list)\n",
    "  employee_data.append(department)\n",
    "\n",
    "  general_data.append(employee_data)\n",
    "  employee_data = []\n",
    "  \n",
    "  \n",
    "with open(\"database.csv\", \"w\") as file:   \n",
    "    writer = csv.writer(file)\n",
    "    writer.writerow(['Name', 'Birth date', 'Hire date', 'Department'])\n",
    "    for employee in general_data:\n",
    "        writer.writerow(employee)\n",
    "\n",
    "\n"
   ]
  }
 ],
 "metadata": {
  "kernelspec": {
   "display_name": "Python 3",
   "language": "python",
   "name": "python3"
  },
  "language_info": {
   "codemirror_mode": {
    "name": "ipython",
    "version": 3
   },
   "file_extension": ".py",
   "mimetype": "text/x-python",
   "name": "python",
   "nbconvert_exporter": "python",
   "pygments_lexer": "ipython3",
   "version": "3.12.7"
  }
 },
 "nbformat": 4,
 "nbformat_minor": 2
}
