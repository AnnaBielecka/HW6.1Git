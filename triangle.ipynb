{
  "nbformat": 4,
  "nbformat_minor": 0,
  "metadata": {
    "colab": {
      "provenance": [],
      "authorship_tag": "ABX9TyNy+JF3pcA8u9pDlzLRjrAu"
    },
    "kernelspec": {
      "name": "python3",
      "display_name": "Python 3"
    },
    "language_info": {
      "name": "python"
    }
  },
  "cells": [
    {
      "cell_type": "code",
      "execution_count": 1,
      "metadata": {
        "colab": {
          "base_uri": "https://localhost:8080/"
        },
        "id": "065gfiBqV2Kz",
        "outputId": "0cd55c03-1607-4901-a964-56a5ab57e0e5"
      },
      "outputs": [
        {
          "output_type": "stream",
          "name": "stdout",
          "text": [
            "Input numbers of rows:  5\n",
            "get_triangle(5) ==  [[1], [1, 1], [1, 2, 1], [1, 3, 3, 1], [1, 4, 6, 4, 1]]\n",
            "[1]\n",
            "[1, 1]\n",
            "[1, 2, 1]\n",
            "[1, 3, 3, 1]\n",
            "[1, 4, 6, 4, 1]\n",
            "    1\n",
            "   1 1\n",
            "  1 2 1\n",
            " 1 3 3 1\n",
            "1 4 6 4 1\n",
            "\n"
          ]
        }
      ],
      "source": [
        "def get_triangle(rows: int):\n",
        "    triangle = []\n",
        "\n",
        "    for i in range(rows):\n",
        "         # Initialize a row with 1s\n",
        "        row = [1]*(i+1)\n",
        "\n",
        "        for j in range(1,i):\n",
        "            # Calculate the values for the middle elements of the row\n",
        "            row[j] = triangle[i - 1][j - 1] + triangle[i - 1][j]\n",
        "\n",
        "        # Add the row to the triangle\n",
        "        triangle.append(row)\n",
        "    return triangle\n",
        "\n",
        "rows = int(input('Input numbers of rows:  '))\n",
        "print(f'get_triangle({rows}) == ', get_triangle(rows))\n",
        "\n",
        "for row in get_triangle(rows):\n",
        "    print(row)\n",
        "\n",
        "def format_pascals_triangle(triangle):\n",
        "    result = \"\"\n",
        "    max_width = len(triangle[-1]) * 2 - 1  # Find the maximum width based on the last row\n",
        "\n",
        "    for row in triangle:\n",
        "        row_str = ' '.join(map(str, row))  # Convert the row to a string\n",
        "        result += row_str.center(max_width).rstrip() + \"\\n\"  # Center the row and add a newline\n",
        "\n",
        "    return result\n",
        "\n",
        "\n",
        "formatted_triangle = format_pascals_triangle(get_triangle(rows))\n",
        "print(formatted_triangle)"
      ]
    }
  ]
}