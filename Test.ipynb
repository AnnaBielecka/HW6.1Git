{
 "cells": [
  {
   "cell_type": "code",
   "execution_count": 5,
   "metadata": {},
   "outputs": [
    {
     "name": "stdout",
     "output_type": "stream",
     "text": [
      "Hello World!\n"
     ]
    }
   ],
   "source": [
    "print('Hello World!')"
   ]
  },
  {
   "cell_type": "code",
   "execution_count": 1,
   "metadata": {},
   "outputs": [
    {
     "name": "stdout",
     "output_type": "stream",
     "text": [
      "{'acd', 'abc', 'cba'}\n"
     ]
    }
   ],
   "source": [
    "sentence = \"abc cba acd abc\"\n",
    "\n",
    "words = set(sentence.split())\n",
    "\n",
    "print(words)\n"
   ]
  },
  {
   "cell_type": "code",
   "execution_count": 6,
   "metadata": {},
   "outputs": [
    {
     "name": "stdout",
     "output_type": "stream",
     "text": [
      "{'cba'}\n",
      "{'acd', 'abc', 'cba'}\n"
     ]
    }
   ],
   "source": [
    "sentence2 = 'cba baa acc'\n",
    "\n",
    "words2 = set(sentence2.split()).intersection(words)\n",
    "\n",
    "print(words2)\n",
    "print(words)\n",
    "\n",
    "for item in set(sentence2.split()).intersection(words):\n",
    "    words.remove(item)"
   ]
  },
  {
   "cell_type": "code",
   "execution_count": 24,
   "metadata": {},
   "outputs": [
    {
     "name": "stdout",
     "output_type": "stream",
     "text": [
      "Unique numbers: {2, 3, 6, 7, 8, 9}\n",
      "General list of random numbers: [2, 9, 7, 8, 2, 8, 3, 2, 6, 7]\n",
      "Unique number = 2, Probability (%) = 0.3\n",
      "Unique number = 3, Probability (%) = 0.1\n",
      "Unique number = 6, Probability (%) = 0.1\n",
      "Unique number = 7, Probability (%) = 0.2\n",
      "Unique number = 8, Probability (%) = 0.2\n",
      "Unique number = 9, Probability (%) = 0.1\n"
     ]
    }
   ],
   "source": [
    "#Generate N random numbers in the range [1, N] and keep track of a percent of unique numbers in the result\n",
    "\n",
    "import random\n",
    "N = 10\n",
    "unique_set = set()\n",
    "general_list = []\n",
    "\n",
    "for i in range(N):\n",
    "    new_number = random.randint(1, 10)\n",
    "    general_list.append(new_number)\n",
    "    unique_set.add(new_number)\n",
    "\n",
    "print(f'Unique numbers: {unique_set}')\n",
    "\n",
    "print(f'General list of random numbers: {general_list}')\n",
    "\n",
    "for item in unique_set:\n",
    "    prob_item = general_list.count(item)/N\n",
    "    print(f'Unique number = {item}, Probability (%) = {prob_item}')\n"
   ]
  },
  {
   "cell_type": "code",
   "execution_count": 26,
   "metadata": {},
   "outputs": [
    {
     "name": "stdout",
     "output_type": "stream",
     "text": [
      "Unique numbers: {3, 5, 6, 7}\n",
      "General list of random numbers: [6, 7, 7, 6, 5, 3, 6, 6, 6, 5]\n",
      "a percent of unique numbers in the result = 40.0%\n"
     ]
    }
   ],
   "source": [
    "#Generate N random numbers in the range [1, N] and keep track of a percent of unique numbers in the result\n",
    "\n",
    "import random\n",
    "N = 10\n",
    "unique_set = set()\n",
    "general_list = []\n",
    "\n",
    "for i in range(N):\n",
    "    new_number = random.randint(1, 10)\n",
    "    general_list.append(new_number)\n",
    "    unique_set.add(new_number)\n",
    "\n",
    "print(f'Unique numbers: {unique_set}')\n",
    "print(f'General list of random numbers: {general_list}')\n",
    "\n",
    "Pers = len(unique_set)*100/len(general_list)\n",
    "print(f'a percent of unique numbers in the result = {Pers}%')"
   ]
  },
  {
   "cell_type": "code",
   "execution_count": 1,
   "metadata": {},
   "outputs": [],
   "source": [
    "from typing import List, Tuple"
   ]
  },
  {
   "cell_type": "code",
   "execution_count": 19,
   "metadata": {},
   "outputs": [
    {
     "name": "stdout",
     "output_type": "stream",
     "text": [
      "212\n",
      "O(n)\n"
     ]
    }
   ],
   "source": [
    "def find_max(li: List[int]) -> int:\n",
    "    \n",
    "    max_li = li[0]\n",
    "    for i in range(len(li)-1):\n",
    "        if li[i] > max_li:\n",
    "            max_li = li[i]\n",
    "    return max_li\n",
    "    \n",
    "li = [1, 212, 33, 4, 5]\n",
    "\n",
    "print(find_max(li))\n",
    "print('O(n)')"
   ]
  },
  {
   "cell_type": "code",
   "execution_count": 14,
   "metadata": {},
   "outputs": [
    {
     "name": "stdout",
     "output_type": "stream",
     "text": [
      "I guess the number is 50\n",
      "I guess the number is 25\n",
      "I guess the number is 13\n",
      "I guess the number is 7\n",
      "I guess the number is 10\n",
      "I guess the number is 9\n",
      "I guess the number is 9\n",
      "I guess the number is 9\n",
      "I guess the number is 9\n",
      "9\n",
      "O(log n)\n"
     ]
    }
   ],
   "source": [
    "n = 100\n",
    "\n",
    "a = 1\n",
    "b = n\n",
    "\n",
    "guess_number = int(n/2)\n",
    "print(f'I guess the number is {guess_number}')\n",
    "\n",
    "for i in range(n):\n",
    "    compar = str(input(\"is your number > or < of my guess? Or it is bingo?\"))\n",
    "    if compar == \">\":\n",
    "        guess_number += int(n/(2**(i+2)))\n",
    "        print(f'I guess the number is {guess_number}')\n",
    "    elif compar == \"<\":\n",
    "        guess_number -= int(n/(2**(i+2)))\n",
    "        print(f'I guess the number is {guess_number}')\n",
    "    elif compar == \"bingo\":\n",
    "        break\n",
    "\n",
    "print(guess_number)\n",
    "print('O(log n)')"
   ]
  },
  {
   "cell_type": "code",
   "execution_count": 20,
   "metadata": {},
   "outputs": [
    {
     "name": "stdout",
     "output_type": "stream",
     "text": [
      "I guess the number is 50\n",
      "I guess the number is 75\n",
      "I guess the number is 88\n",
      "I guess the number is 81\n",
      "I guess the number is 84\n",
      "Невірне введення. Спробуйте ще раз.\n",
      "I guess the number is 84\n",
      "I guess the number is 82\n",
      "Невірне введення. Спробуйте ще раз.\n",
      "I guess the number is 82\n",
      "I guess the number is 83\n",
      "{83}\n",
      "O(log n)\n"
     ]
    }
   ],
   "source": [
    "n = 100\n",
    "\n",
    "a = 1\n",
    "b = n\n",
    "\n",
    "def guessing_game(n):\n",
    "    low, high = a, b\n",
    "    while True:\n",
    "        guess = (low + high) // 2  # Зробити здогадку як середину діапазону\n",
    "        print(f'I guess the number is {guess}')\n",
    "        \n",
    "        user_input = input(\"is your number > or < of my guess? Or it is a bingo?\")\n",
    "        \n",
    "        if user_input == '<':\n",
    "            high = guess - 1  \n",
    "        elif user_input == '>':\n",
    "            low = guess + 1  \n",
    "        elif user_input == 'bingo':\n",
    "            print({guess})\n",
    "            break\n",
    "        else:\n",
    "            print(\"Невірне введення. Спробуйте ще раз.\")\n",
    "\n",
    "guessing_game(n)\n",
    "print('O(log n)')"
   ]
  },
  {
   "cell_type": "code",
   "execution_count": 22,
   "metadata": {},
   "outputs": [
    {
     "name": "stdout",
     "output_type": "stream",
     "text": [
      "[1, 2, 3, 4, 6, 8, 9, 10, 12]\n",
      "O(m+n)\n"
     ]
    }
   ],
   "source": [
    "list3 = [1,3,8,9,12]\n",
    "list4 = [2,4,6,10]\n",
    "def merge_list (list_a, list_b):\n",
    "    merged_list = []\n",
    "    i, j = 0, 0\n",
    "    while i < len(list_a) and j < len(list_b):\n",
    "        if list_a[i] <= list_b [j]:\n",
    "            merged_list.append(list_a[i])\n",
    "            i += 1\n",
    "        else:\n",
    "            merged_list.append(list_b[j])\n",
    "            j += 1\n",
    "    merged_list.extend(list_a[i:])\n",
    "    merged_list.extend(list_b[j:])\n",
    "    return merged_list\n",
    "merge_list (list3,list4)\n",
    "\n",
    "print(merge_list(list3,list4))\n",
    "print ('O(m+n)')"
   ]
  },
  {
   "cell_type": "code",
   "execution_count": 5,
   "metadata": {},
   "outputs": [
    {
     "name": "stdout",
     "output_type": "stream",
     "text": [
      "(1, 2)\n",
      "O(n)\n"
     ]
    }
   ],
   "source": [
    "from typing import List, Tuple\n",
    "\n",
    "def find_sum_fast(target: int, li: List[int]) -> Tuple[int, int]:\n",
    "    seen = {}  # Словник для збереження чисел та їхніх індексів\n",
    "    \n",
    "    for i, num in enumerate(li):\n",
    "        difference = target - num\n",
    "        \n",
    "        if difference in seen:\n",
    "            return (seen[difference], i)  # Якщо різниця вже була, повертаємо пару індексів\n",
    "        \n",
    "        seen[num] = i  # Додаємо поточний елемент у словник\n",
    "\n",
    "# Приклад виклику функції\n",
    "assert find_sum_fast(5, [1, 2, 3, 4, 5]) in {(0, 3), (1, 2)}\n",
    "print(find_sum_fast(5, [1, 2, 3, 4, 5]))\n",
    "print('O(n)')"
   ]
  },
  {
   "cell_type": "code",
   "execution_count": 11,
   "metadata": {},
   "outputs": [
    {
     "name": "stdout",
     "output_type": "stream",
     "text": [
      "{(1, 2), (0, 3), (2, 1), (3, 0)}\n",
      "O(n**2)\n"
     ]
    }
   ],
   "source": [
    "\n",
    "def find_sum(target: int, li: List[int]) -> set[int, int]:\n",
    "    set_a = set()\n",
    "\n",
    "    for i, numA in enumerate(li):\n",
    "        for j, numB in enumerate(li):\n",
    "            if numA + numB == target:\n",
    "                set_a.add((i,j))\n",
    "    return set_a\n",
    "\n",
    "print(find_sum(5, [1, 2, 3, 4, 5]))\n",
    "print('O(n**2)')"
   ]
  },
  {
   "cell_type": "code",
   "execution_count": 15,
   "metadata": {},
   "outputs": [
    {
     "name": "stdout",
     "output_type": "stream",
     "text": [
      "Start: 2024-10-12 12:40:50.190882\n",
      "End: 2024-10-12 12:40:50.191884\n",
      "15\n"
     ]
    }
   ],
   "source": [
    "from datetime import datetime\n",
    "\n",
    "def decorator(func):\n",
    "    def wrapper(*args, **kwargs):\n",
    "        print(f'Start: {datetime.now()}')\n",
    "        func(*args, **kwargs)\n",
    "        print(f'End: {datetime.now()}')\n",
    "        return func(*args, **kwargs)\n",
    "    return wrapper\n",
    "\n",
    "@decorator\n",
    "def add(a: int, b: int):\n",
    "    return a + b\n",
    "\n",
    "result = add(5,10)\n",
    "\n",
    "print(result)"
   ]
  },
  {
   "cell_type": "code",
   "execution_count": 23,
   "metadata": {},
   "outputs": [],
   "source": [
    "import random\n",
    "list1 = [1,2,3,4,5,6,7,8,9,10]\n",
    "a = str(random.choice(list1))\n",
    "\n",
    "with open('Hello.txt', 'w') as file:\n",
    "    file.write(a)"
   ]
  },
  {
   "cell_type": "code",
   "execution_count": 24,
   "metadata": {},
   "outputs": [],
   "source": [
    "import string\n",
    "\n",
    "# Відкриваємо файл і читаємо число\n",
    "with open(\"hello.txt\", \"r\") as file:\n",
    "    n = int(file.read().strip())  # Читаємо число і перетворюємо його на ціле число\n",
    "\n",
    "# Генеруємо перші n великих літер\n",
    "letters = string.ascii_uppercase[:n]\n",
    "\n",
    "# Відкриваємо файл в режимі додавання (append) і записуємо літери\n",
    "with open(\"hello.txt\", \"a\") as file:\n",
    "    file.write(\"\\n\")  # Додаємо новий рядок перед записом\n",
    "    file.write(' '.join(letters))  # Записуємо літери через пробіл"
   ]
  },
  {
   "cell_type": "code",
   "execution_count": 25,
   "metadata": {},
   "outputs": [
    {
     "name": "stdout",
     "output_type": "stream",
     "text": [
      "7\n",
      "A B C D E F G\n"
     ]
    }
   ],
   "source": [
    "with open(\"hello.txt\", \"r\") as file:\n",
    "    content = file.read()  \n",
    "\n",
    "print(content)"
   ]
  },
  {
   "cell_type": "code",
   "execution_count": 37,
   "metadata": {},
   "outputs": [],
   "source": [
    "import csv"
   ]
  },
  {
   "cell_type": "code",
   "execution_count": 49,
   "metadata": {},
   "outputs": [],
   "source": [
    "warehouse = [\n",
    "    {\"product\": \"Apple\", \"price\": 0.5, \"quantity\": 10},\n",
    "    {\"product\": \"Banana\", \"price\": 0.75, \"quantity\": 20},\n",
    "    {\"product\": \"Orange\", \"price\": 0.35, \"quantity\": 15}\n",
    "]"
   ]
  },
  {
   "cell_type": "code",
   "execution_count": 45,
   "metadata": {},
   "outputs": [],
   "source": [
    "with open(\"warehouse_v1.csv\", \"w\") as file:   \n",
    "     \n",
    "    file.write(\"product,price,quantity\\n\")\n",
    "       \n",
    "    for item in warehouse:\n",
    "       \n",
    "        row = f\"{item['product']},{item['price']},{item['quantity']}\\n\"\n",
    "        file.write(row)"
   ]
  },
  {
   "cell_type": "code",
   "execution_count": 54,
   "metadata": {},
   "outputs": [],
   "source": [
    "import csv\n",
    "\n",
    "with open('warehouse_v2.csv', mode='w') as file:\n",
    "    fieldnames = ['product', 'price', 'quantity']\n",
    "    writer = csv.DictWriter(file, fieldnames=fieldnames)\n",
    "    \n",
    "    writer.writeheader()\n",
    "    writer.writerow({\"product\": \"Apple\", \"price\": 0.5, \"quantity\": 10})\n",
    "    writer.writerow({\"product\": \"Banana\", \"price\": 0.75, \"quantity\": 20})\n",
    "    writer.writerow({\"product\": \"Orange\", \"price\": 0.35, \"quantity\": 15})\n"
   ]
  },
  {
   "cell_type": "code",
   "execution_count": 56,
   "metadata": {},
   "outputs": [
    {
     "name": "stdout",
     "output_type": "stream",
     "text": [
      "[\n",
      "    {\n",
      "        \"product\": \"Apple\",\n",
      "        \"price\": 0.5,\n",
      "        \"quantity\": 10\n",
      "    },\n",
      "    {\n",
      "        \"product\": \"Banana\",\n",
      "        \"price\": 0.75,\n",
      "        \"quantity\": 20\n",
      "    },\n",
      "    {\n",
      "        \"product\": \"Orange\",\n",
      "        \"price\": 0.35,\n",
      "        \"quantity\": 15\n",
      "    }\n",
      "]\n"
     ]
    }
   ],
   "source": [
    "import json\n",
    "\n",
    "with open(\"warehouse_v3.json\", \"w\") as file:\n",
    "    json.dump(warehouse, file, indent=4)  # Зберігаємо об'єкт warehouse у JSON-форматі з відступами\n",
    "\n",
    "with open(\"warehouse_v3.json\", \"r\") as file:\n",
    "    content = file.read()\n",
    "    print(content)"
   ]
  },
  {
   "cell_type": "code",
   "execution_count": 1,
   "metadata": {},
   "outputs": [
    {
     "name": "stdout",
     "output_type": "stream",
     "text": [
      "Defaulting to user installation because normal site-packages is not writeable\n",
      "Collecting faker\n",
      "  Downloading Faker-30.6.0-py3-none-any.whl.metadata (15 kB)\n",
      "Requirement already satisfied: python-dateutil>=2.4 in c:\\users\\amolo\\appdata\\local\\packages\\pythonsoftwarefoundation.python.3.12_qbz5n2kfra8p0\\localcache\\local-packages\\python312\\site-packages (from faker) (2.9.0.post0)\n",
      "Collecting typing-extensions (from faker)\n",
      "  Downloading typing_extensions-4.12.2-py3-none-any.whl.metadata (3.0 kB)\n",
      "Requirement already satisfied: six>=1.5 in c:\\users\\amolo\\appdata\\local\\packages\\pythonsoftwarefoundation.python.3.12_qbz5n2kfra8p0\\localcache\\local-packages\\python312\\site-packages (from python-dateutil>=2.4->faker) (1.16.0)\n",
      "Downloading Faker-30.6.0-py3-none-any.whl (1.8 MB)\n",
      "   ---------------------------------------- 0.0/1.8 MB ? eta -:--:--\n",
      "   ----------------- ---------------------- 0.8/1.8 MB 4.2 MB/s eta 0:00:01\n",
      "   ---------------------------------------- 1.8/1.8 MB 6.8 MB/s eta 0:00:00\n",
      "Downloading typing_extensions-4.12.2-py3-none-any.whl (37 kB)\n",
      "Installing collected packages: typing-extensions, faker\n",
      "Successfully installed faker-30.6.0 typing-extensions-4.12.2\n",
      "Note: you may need to restart the kernel to use updated packages.\n"
     ]
    }
   ],
   "source": [
    "\n"
   ]
  },
  {
   "cell_type": "code",
   "execution_count": 51,
   "metadata": {},
   "outputs": [],
   "source": [
    "from faker import Faker\n",
    "fake = Faker()\n",
    "\n",
    "import random\n",
    "departments_list = ['HR', 'Finance', 'Research', 'Marketing', 'IT', 'Sales' ]\n",
    "\n",
    "import csv\n",
    "\n",
    "n = 10\n",
    "\n",
    "general_data = []\n",
    "\n",
    "\n",
    "for i in range(n):\n",
    "  employee_data = []\n",
    "  name_employee = fake.name()\n",
    "  employee_data.append(name_employee)\n",
    "  birthdate = fake.date_of_birth(minimum_age=20, maximum_age=60)\n",
    "  employee_data.append(birthdate)\n",
    "  hire_date = fake.date_this_decade()\n",
    "  employee_data.append(hire_date)\n",
    "  department = random.choice(departments_list)\n",
    "  employee_data.append(department)\n",
    "  general_data.append(employee_data)\n",
    "  \n",
    "  \n",
    "with open(\"database.csv\", \"w\") as file:   \n",
    "    writer = csv.writer(file)\n",
    "    writer.writerow(['Name', 'Birth date', 'Hire date', 'Department'])\n",
    "    for employee in general_data:\n",
    "        writer.writerow(employee)\n",
    "\n"
   ]
  },
  {
   "cell_type": "code",
   "execution_count": 52,
   "metadata": {},
   "outputs": [
    {
     "name": "stdout",
     "output_type": "stream",
     "text": [
      "Usage: python script.py database.csv month\n"
     ]
    }
   ],
   "source": [
    "import csv\n",
    "import sys\n",
    "from collections import defaultdict\n",
    "from datetime import datetime\n",
    "\n",
    "def generate_report(database_file, search_month):\n",
    "    birthdays_by_department = defaultdict(int)\n",
    "    anniversaries_by_department = defaultdict(int)\n",
    "    total_birthdays = 0\n",
    "    total_anniversaries = 0\n",
    "\n",
    "    # Читаємо файл CSV\n",
    "    with open(database_file, newline='') as csvfile:\n",
    "        reader = csv.DictReader(csvfile)\n",
    "        for row in reader:\n",
    "            # Отримуємо місяць із дати народження та дати найму\n",
    "            birth_month = datetime.strptime(row['birthday'], '%Y-%m-%d').strftime('%B').lower()\n",
    "            hire_month = datetime.strptime(row['hiring_date'], '%Y-%m-%d').strftime('%B').lower()\n",
    "\n",
    "            # Перевіряємо місяць народження\n",
    "            if birth_month == search_month.lower():\n",
    "                total_birthdays += 1\n",
    "                birthdays_by_department[row['department']] += 1\n",
    "\n",
    "            # Перевіряємо місяць річниці\n",
    "            if hire_month == search_month.lower():\n",
    "                total_anniversaries += 1\n",
    "                anniversaries_by_department[row['department']] += 1\n",
    "\n",
    "    # Виводимо результат\n",
    "    print(f\"Report for {search_month.capitalize()} generated\")\n",
    "    print(\"--- Birthdays ---\")\n",
    "    print(f\"Total: {total_birthdays}\")\n",
    "    print(\"By department:\")\n",
    "    for department, count in birthdays_by_department.items():\n",
    "        print(f\"- {department}: {count}\")\n",
    "\n",
    "    print(\"--- Anniversaries ---\")\n",
    "    print(f\"Total: {total_anniversaries}\")\n",
    "    print(\"By department:\")\n",
    "    for department, count in anniversaries_by_department.items():\n",
    "        print(f\"- {department}: {count}\")\n",
    "\n",
    "if __name__ == \"__main__\":\n",
    "    if len(sys.argv) != 3:\n",
    "        print(\"Usage: python script.py database.csv month\")\n",
    "    else:\n",
    "        database_file = sys.argv[1]\n",
    "        month = sys.argv[2]\n",
    "        generate_report(database_file, month)\n"
   ]
  },
  {
   "cell_type": "code",
   "execution_count": 1,
   "metadata": {},
   "outputs": [],
   "source": [
    "from typing import List, Callable"
   ]
  },
  {
   "cell_type": "code",
   "execution_count": 4,
   "metadata": {},
   "outputs": [
    {
     "name": "stdout",
     "output_type": "stream",
     "text": [
      "[2, 4, 6]\n"
     ]
    }
   ],
   "source": [
    "def apply(li: List[int], func: Callable[[int], int]) -> List[int]:\n",
    "    modified_list = []\n",
    "    for x in li:\n",
    "        modified_list.append(func(x))\n",
    "    return modified_list\n",
    "\n",
    "a = [1, 2, 3]\n",
    "def times_2(num: int) -> int:\n",
    "    return num*2\n",
    "\n",
    "a = apply(a, times_2)\n",
    "print(a)  # should print [2, 4, 6]"
   ]
  },
  {
   "cell_type": "code",
   "execution_count": 6,
   "metadata": {},
   "outputs": [
    {
     "name": "stdout",
     "output_type": "stream",
     "text": [
      "[8, 10, 12]\n"
     ]
    }
   ],
   "source": [
    "b = [4, 5, 6]\n",
    "\n",
    "b = apply(b, lambda b : b * 2)\n",
    "\n",
    "print(b)  # should print [8, 10, 12]"
   ]
  },
  {
   "cell_type": "code",
   "execution_count": 9,
   "metadata": {},
   "outputs": [
    {
     "name": "stdout",
     "output_type": "stream",
     "text": [
      "6\n"
     ]
    }
   ],
   "source": [
    "def sum_even(li: List[int]) -> int:\n",
    "    def is_even (num: int) -> bool:\n",
    "        return num % 2 == 0\n",
    "    return sum(x for x in li if is_even(x))\n",
    "\n",
    "a = [2,3,4,5,3]\n",
    "result = sum_even(a)\n",
    "print(result)\n"
   ]
  },
  {
   "cell_type": "code",
   "execution_count": 16,
   "metadata": {},
   "outputs": [
    {
     "name": "stdout",
     "output_type": "stream",
     "text": [
      "function `my_func` called at 2024-10-22 20:58:17.613865\n",
      "2.5\n"
     ]
    }
   ],
   "source": [
    "from datetime import datetime\n",
    "\n",
    "def add_logging(func: Callable) -> Callable:\n",
    "    # Функція-обгортка\n",
    "    def wrapper(*args, **kwargs):\n",
    "        # Логування перед викликом функції\n",
    "        now = datetime.now()\n",
    "        print(f\"function `{func.__name__}` called at {now}\")\n",
    "        \n",
    "        # Виклик початкової функції з її аргументами\n",
    "        result = func(*args, **kwargs)\n",
    "        \n",
    "        return result\n",
    "    return wrapper\n",
    "\n",
    "# Наша функція\n",
    "def my_func(num: int) -> int:\n",
    "    return 0.1 * num ** 2\n",
    "\n",
    "# Створюємо функцію з логуванням\n",
    "my_func_with_log = add_logging(my_func)\n",
    "\n",
    "# Викликаємо функцію\n",
    "print(my_func_with_log(5))\n",
    "\n",
    "# Результат повинен бути щось на кшталт:\n",
    "# function `my_func` called at 2024-01-26T14:30:00Z\n",
    "# 2.5"
   ]
  },
  {
   "cell_type": "code",
   "execution_count": 17,
   "metadata": {},
   "outputs": [
    {
     "name": "stdout",
     "output_type": "stream",
     "text": [
      "function `some_function` called at 2024-10-22 21:06:04.931609\n"
     ]
    }
   ],
   "source": [
    "@add_logging\n",
    "def some_function():\n",
    "    pass\n",
    "\n",
    "some_function()"
   ]
  },
  {
   "cell_type": "code",
   "execution_count": null,
   "metadata": {},
   "outputs": [],
   "source": []
  }
 ],
 "metadata": {
  "kernelspec": {
   "display_name": "Python 3",
   "language": "python",
   "name": "python3"
  },
  "language_info": {
   "codemirror_mode": {
    "name": "ipython",
    "version": 3
   },
   "file_extension": ".py",
   "mimetype": "text/x-python",
   "name": "python",
   "nbconvert_exporter": "python",
   "pygments_lexer": "ipython3",
   "version": "3.12.7"
  },
  "orig_nbformat": 4
 },
 "nbformat": 4,
 "nbformat_minor": 2
}
