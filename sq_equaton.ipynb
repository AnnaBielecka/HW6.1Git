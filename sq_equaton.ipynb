{
 "cells": [
  {
   "cell_type": "code",
   "execution_count": 11,
   "metadata": {},
   "outputs": [
    {
     "name": "stdout",
     "output_type": "stream",
     "text": [
      "4x^2+(-2)x-2=0\n",
      "a = 4\n",
      "b = -2\n",
      "c = -2\n",
      "x1 = 1.0\n",
      "x2 = -0.5\n"
     ]
    }
   ],
   "source": [
    "eq = input()\n",
    "print(eq.replace(' ',''))\n",
    "\n",
    "eq = eq.replace(' ','').replace('+','').replace('(','').replace(')','')\n",
    "ap = eq.find('x^2')\n",
    "\n",
    "a = int(eq[:ap])\n",
    "print('a =',a)\n",
    "\n",
    "eq = eq[ap+3:]\n",
    "bp = eq.find('x')\n",
    "\n",
    "b = int(eq[:bp])\n",
    "print('b =',b)\n",
    "\n",
    "eq = eq[bp+1:]\n",
    "cp = eq.find('=')\n",
    "\n",
    "c = int(eq[:cp])\n",
    "print('c =',c)\n",
    "\n",
    "x1 = (-b+(b**2-4*a*c)**(1/2))/(2*a)\n",
    "x2 = (-b-(b**2-4*a*c)**(1/2))/(2*a)\n",
    "\n",
    "print('x1 =',x1)\n",
    "print('x2 =',x2)\n"
   ]
  }
 ],
 "metadata": {
  "kernelspec": {
   "display_name": "Python 3",
   "language": "python",
   "name": "python3"
  },
  "language_info": {
   "codemirror_mode": {
    "name": "ipython",
    "version": 3
   },
   "file_extension": ".py",
   "mimetype": "text/x-python",
   "name": "python",
   "nbconvert_exporter": "python",
   "pygments_lexer": "ipython3",
   "version": "3.12.6"
  }
 },
 "nbformat": 4,
 "nbformat_minor": 2
}
